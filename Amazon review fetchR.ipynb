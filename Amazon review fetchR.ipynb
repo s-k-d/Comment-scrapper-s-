{
 "cells": [
  {
   "cell_type": "code",
   "execution_count": 38,
   "id": "82dfbf9e-31fc-4426-a5cd-b8a72353dd16",
   "metadata": {},
   "outputs": [
    {
     "name": "stdout",
     "output_type": "stream",
     "text": [
      "Fetching page 1...\n",
      "Fetching page 2...\n",
      "Fetching page 3...\n",
      "Top 20 5-star reviews saved to amazon_iphone_13_5star_reviews.csv\n"
     ]
    }
   ],
   "source": [
    "import requests\n",
    "import re\n",
    "import pandas as pd\n",
    "import time\n",
    "\n",
    "# Update the product URL for the review pages\n",
    "product_url = \"#\"  # Amazon review URL for the iPhone 13\n",
    "\n",
    "# Define headers to simulate a browser request\n",
    "headers = {\n",
    "    \"User-Agent\": \"Mozilla/5.0 (Windows NT 10.0; Win64; x64) AppleWebKit/537.36 (KHTML, like Gecko) Chrome/92.0.4515.131 Safari/537.36\",\n",
    "    \"Accept-Language\": \"en-US,en;q=0.9\"\n",
    "}\n",
    "\n",
    "# Function to fetch reviews using regular expressions\n",
    "def fetch_reviews(page_number):\n",
    "    # Generate URL for the specific page number\n",
    "    url = f\"{product_url}/ref=cm_cr_getr_d_paging_btm_next_{page_number}?pageNumber={page_number}\"\n",
    "    response = requests.get(url, headers=headers)\n",
    "    \n",
    "    if response.status_code == 200:\n",
    "        # Regular expressions for finding rating components\n",
    "        rating_regex = re.compile(r'data-hook=\"review-star-rating\".*?>(\\d+\\.\\d) out of 5 stars<\\/span>', re.S)\n",
    "        text_regex = re.compile(r'data-hook=\"review-body\".*?<span>(.*?)<\\/span>', re.S)\n",
    "        \n",
    "        # Apply regex to the page content\n",
    "        ratings = rating_regex.findall(response.text)\n",
    "        texts = text_regex.findall(response.text)\n",
    "        \n",
    "        # Combine the data into a list of dictionaries\n",
    "        reviews = []\n",
    "        for i in range(min(len(ratings), len(texts))):\n",
    "            if ratings[i].strip() == \"5.0\":  # Filter for stars ratings only\n",
    "                review = {\n",
    "                    \"rating\": ratings[i].strip(),\n",
    "                    \"text\": texts[i].strip()\n",
    "                }\n",
    "                reviews.append(review)\n",
    "                if len(reviews) >= 20:  # Stop if we've reached 20 reviews\n",
    "                    break\n",
    "        \n",
    "        return reviews\n",
    "    else:\n",
    "        print(f\"Failed to retrieve page {page_number}\")\n",
    "        return []\n",
    "\n",
    "# Function to iterate through multiple pages and gather reviews\n",
    "def gather_reviews(max_pages=5):\n",
    "    all_reviews = []\n",
    "    for page in range(1, max_pages + 1):\n",
    "        print(f\"Fetching page {page}...\")\n",
    "        reviews = fetch_reviews(page)\n",
    "        if not reviews:\n",
    "            break\n",
    "        all_reviews.extend(reviews)\n",
    "        if len(all_reviews) >= 20:  # Stop if we've reached 20 reviews\n",
    "            all_reviews = all_reviews[:20]  # Limit to top 20 reviews\n",
    "            break\n",
    "        time.sleep(2)  # Avoid overloading Amazon's servers with requests\n",
    "    \n",
    "    return all_reviews\n",
    "\n",
    "# Fetch reviews and save them to a DataFrame\n",
    "reviews = gather_reviews(max_pages=5)\n",
    "df = pd.DataFrame(reviews)\n",
    "\n",
    "# Save to a CSV file\n",
    "df.to_csv(\"your-csv-name.csv\", index=False)\n",
    "print(\"File is saved \"+ your-csv-name.csv)\n"
   ]
  },
  {
   "cell_type": "code",
   "execution_count": null,
   "id": "540fbe29-214c-42c1-b165-1fba302c55e2",
   "metadata": {},
   "outputs": [],
   "source": [
    "D"
   ]
  }
 ],
 "metadata": {
  "kernelspec": {
   "display_name": "Python 3 (ipykernel)",
   "language": "python",
   "name": "python3"
  },
  "language_info": {
   "codemirror_mode": {
    "name": "ipython",
    "version": 3
   },
   "file_extension": ".py",
   "mimetype": "text/x-python",
   "name": "python",
   "nbconvert_exporter": "python",
   "pygments_lexer": "ipython3",
   "version": "3.12.4"
  }
 },
 "nbformat": 4,
 "nbformat_minor": 5
}
